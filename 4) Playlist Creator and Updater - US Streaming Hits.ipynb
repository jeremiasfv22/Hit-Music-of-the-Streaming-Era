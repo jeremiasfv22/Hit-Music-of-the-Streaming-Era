{
 "cells": [
  {
   "cell_type": "markdown",
   "id": "85a5214d",
   "metadata": {},
   "source": [
    "# 4) Playlist Creator and Editor - US Hit Streaming Songs Project\n",
    "\n",
    "In the previous three sections, the data was collected for this project and then it was subsequentially analyzed and modeled. \n",
    "\n",
    "For this project a playlist is to be made! 🥳 To access the finalized playlist, click here: https://open.spotify.com/playlist/2fqpXYOyQG3q3HCaRjZitJ?si=7a0529ee6d884fa0\n",
    "\n",
    "# Import packages\n",
    "First, we import the necessary packages."
   ]
  },
  {
   "cell_type": "code",
   "execution_count": 1,
   "id": "c2af9db5",
   "metadata": {},
   "outputs": [],
   "source": [
    "#to access spotipy\n",
    "import configparser\n",
    "import spotipy\n",
    "from spotipy.oauth2 import SpotifyClientCredentials, SpotifyOAuth\n",
    "\n",
    "#to clean data\n",
    "import pandas as pd\n",
    "import numpy as np\n",
    "\n",
    "#to allow interaction with underlying operating system\n",
    "import os\n",
    "\n",
    "#to access google sheets with python\n",
    "import gspread\n",
    "from google.oauth2 import service_account\n",
    "from oauth2client.service_account import ServiceAccountCredentials"
   ]
  },
  {
   "cell_type": "markdown",
   "id": "dee48e0f",
   "metadata": {},
   "source": [
    "# Create environmental variables\n",
    "Just as in the first part of this project, create environmental variables are to be used to hide the client ID/secret ID from public view\n",
    "\n",
    "##  CONVERT THE FOLLOWING TO CODE (W/ YOUR OWN SPOTIFY CREDENTIALS):\n",
    "\n",
    "%env SPOTIPY_CLIENT_ID=YOUR_SPOTIFY_APP_CLIENT_ID\n",
    "\n",
    "%env SPOTIPY_CLIENT_SECRET=YOUR_SPOTIFY_APP_CLIENT_SECRET_ID\n",
    "\n",
    "%env SPOTIPY_REDIRECT_URI=http://127.0.0.1:8080/\n",
    "        \n",
    "-my output is deleted from this jupyter notebook to protect privacy"
   ]
  },
  {
   "cell_type": "code",
   "execution_count": 2,
   "id": "6102a7c0",
   "metadata": {},
   "outputs": [
    {
     "name": "stdout",
     "output_type": "stream",
     "text": [
      "env: SPOTIPY_CLIENT_ID=579cc4fa99084747ac186b848fdad1c8\n",
      "env: SPOTIPY_CLIENT_SECRET=4455893940af4de0be1e7f4cc1d8e3cc\n",
      "env: SPOTIPY_REDIRECT_URI=http://127.0.0.1:8080/\n"
     ]
    }
   ],
   "source": [
    "%env SPOTIPY_CLIENT_ID=579cc4fa99084747ac186b848fdad1c8\n",
    "%env SPOTIPY_CLIENT_SECRET=4455893940af4de0be1e7f4cc1d8e3cc\n",
    "%env SPOTIPY_REDIRECT_URI=http://127.0.0.1:8080/"
   ]
  },
  {
   "cell_type": "code",
   "execution_count": 3,
   "id": "c024fd0b",
   "metadata": {},
   "outputs": [],
   "source": [
    "#import spotify client credentials \n",
    "spotify_client_id = os.environ['SPOTIPY_CLIENT_ID']\n",
    "spotify_secret = os.environ['SPOTIPY_CLIENT_SECRET']\n",
    "spotify_redirect_uri = os.environ['SPOTIPY_REDIRECT_URI']"
   ]
  },
  {
   "cell_type": "markdown",
   "id": "3b1e3a39",
   "metadata": {},
   "source": [
    "# Getting username + playlist info, preparing Spotipy object "
   ]
  },
  {
   "cell_type": "code",
   "execution_count": 4,
   "id": "d675d52e",
   "metadata": {},
   "outputs": [],
   "source": [
    "#get username (my Spotify account's username is used)\n",
    "username = \"wsxf89bx2zlaopwpvtk2hrwa0\"\n",
    "\n",
    "\"\"\"\n",
    "RUN THE FOLLOWING (with your own playlist info) IF YOU ARE CREATING A PLAYLIST FOR THE FIRST TIME\n",
    "\n",
    "#information for the playlist \n",
    "playlist_name = \"Streaming Hits - USA\"\n",
    "playlist_description = \"Collecting of all songs that charted in the top 50 of the HITS Streaming Songs chart since March 2017 ... for data science purposes lol :)\"\n",
    "\n",
    "#the following creates the playlist\n",
    "sp.user_playlist_create(user=username, name=playlist_name, public=True,description=playlist_description)\n",
    "\n",
    "#this gets the id for theplaulist\n",
    "prePlaylist = sp.user_playlists(user=username)\n",
    "playlist = prePlaylist['items'][0]['id'] #playlistID\n",
    "\"\"\"\n",
    "\n",
    "#get playlist (a playlist I created is used)\n",
    "playlist = '2fqpXYOyQG3q3HCaRjZitJ'\n",
    "\n",
    "#create a spotipy Object\n",
    "scope = 'playlist-modify-public'\n",
    "token = SpotifyOAuth(scope=scope, username=username)\n",
    "sp = spotipy.Spotify(auth_manager=token)"
   ]
  },
  {
   "cell_type": "markdown",
   "id": "ea437b78",
   "metadata": {},
   "source": [
    "# Import Google Sheet and Prepare list of tracks to add\n",
    "In the Google Sheet used throughout this project, there is a sheet titled \"Playlist Order\" and it orders how I want to playlist to sound like (so that it can be as chronologically accurate as possible while still having the genre/vibe flow throughout). "
   ]
  },
  {
   "cell_type": "code",
   "execution_count": 5,
   "id": "3eda193b",
   "metadata": {},
   "outputs": [],
   "source": [
    "#Google Sheets service account\n",
    "sa = gspread.service_account(\"gspread_service_account.json\")\n",
    "\n",
    "#get sheet\n",
    "sh = sa.open(\"HITS Streaming Songs\")\n",
    "\n",
    "#get worksheet\n",
    "df2gspread_wks = sh.worksheet(\"Playlist Order\")\n",
    "\n",
    "#uses all values in the worksheet for the data frame\n",
    "df2gspread_wks = pd.DataFrame(df2gspread_wks.get_all_values())\n",
    "\n",
    "header = df2gspread_wks.iloc[0] #isolate first row as header\n",
    "df2gspread_wks = df2gspread_wks[1:] #get rid of header in original df\n",
    "df2gspread_wks.columns = header\n",
    "\n",
    "df2gspread_wks = df2gspread_wks.set_index('playlist_index') #set 'index' as index\n",
    "\n",
    "#create a list of tracks to add\n",
    "tracks_to_add = list(df2gspread_wks['uri'])\n"
   ]
  },
  {
   "cell_type": "markdown",
   "id": "1ed8836e",
   "metadata": {},
   "source": [
    "# Add tracks to playlist"
   ]
  },
  {
   "cell_type": "code",
   "execution_count": 6,
   "id": "b1b964a5",
   "metadata": {},
   "outputs": [],
   "source": [
    "\"\"\" \n",
    "RUN THE FOLLOWING ONLY FOR ADDING SONGS FOR THE FIRST TIME EVER TO THE PLAYLIST \n",
    "\n",
    "while len(tracks_to_add) > 0:\n",
    "    sp.user_playlist_add_tracks(user=username, playlist_id=playlist, tracks=tracks_to_add[0:100])\n",
    "    tracks_to_add = tracks_to_add[100:]\n",
    "\"\"\"\n",
    "#the following replaces/updates the songs on an already made playlist\n",
    "    #works best if the spreadsheet is ordered based by playlist_index being in DESC order\n",
    "sp.playlist_replace_items(playlist_id=playlist, items=tracks_to_add[0:100])\n",
    "\n",
    "#cuts out the first 100 tracks of the playlist \n",
    "tracks_to_add = tracks_to_add[100:]\n",
    "\n",
    "#adds 100 songs at a time until tracks_to_add is empty\n",
    "while len(tracks_to_add) > 0:\n",
    "    sp.user_playlist_add_tracks(user=username, playlist_id=playlist, tracks=tracks_to_add[0:100])\n",
    "    tracks_to_add = tracks_to_add[100:]"
   ]
  },
  {
   "cell_type": "markdown",
   "id": "b078e5c5",
   "metadata": {},
   "source": [
    "# PLAYLIST DONE!!\n",
    "__CONGRATS!! We've made a playlist!! Go listen/relisten/discover all the songs that were popular these last 5 years!!! HAPPY LISTENING!!!__ 🥳🥳🥳"
   ]
  },
  {
   "cell_type": "code",
   "execution_count": null,
   "id": "702b854a",
   "metadata": {},
   "outputs": [],
   "source": []
  }
 ],
 "metadata": {
  "kernelspec": {
   "display_name": "Python 3 (ipykernel)",
   "language": "python",
   "name": "python3"
  },
  "language_info": {
   "codemirror_mode": {
    "name": "ipython",
    "version": 3
   },
   "file_extension": ".py",
   "mimetype": "text/x-python",
   "name": "python",
   "nbconvert_exporter": "python",
   "pygments_lexer": "ipython3",
   "version": "3.9.7"
  },
  "vscode": {
   "interpreter": {
    "hash": "9565d82e52d79d7922286ab7d706041b86c19f8f8b1823fd86c21259079d733a"
   }
  }
 },
 "nbformat": 4,
 "nbformat_minor": 5
}
